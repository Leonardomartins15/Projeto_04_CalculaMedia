{
 "cells": [
  {
   "cell_type": "code",
   "execution_count": 1,
   "id": "dc05bec5",
   "metadata": {},
   "outputs": [
    {
     "name": "stdout",
     "output_type": "stream",
     "text": [
      "8.0\n",
      "aprovado\n"
     ]
    }
   ],
   "source": [
    "nota1 = float(input(\"Me fale a nota do primeiro bimestre:\"))\n",
    "nota2 = float(input(\"Me fale a nota do segundo bimestre:\"))\n",
    "nota3 = float(input(\"Me fale a nota do terçeiro bimestre:\"))\n",
    "nota4 = float(input(\"Me fale a nota do quarto bimestre:\"))\n",
    "\n",
    "total = nota1 + nota2 + nota3 + nota4\n",
    "\n",
    "media = total/4\n",
    "\n",
    "print(media)\n",
    "\n",
    "if media >= 7.0 :\n",
    "    print(\"aprovado\")\n",
    "\n",
    "elif media >= 5.0 and media <= 7.0 :\n",
    "    print(\"recuperação\")\n",
    "\n",
    "else:\n",
    "    print(\"reprovado\")"
   ]
  }
 ],
 "metadata": {
  "kernelspec": {
   "display_name": "Python 3",
   "language": "python",
   "name": "python3"
  },
  "language_info": {
   "codemirror_mode": {
    "name": "ipython",
    "version": 3
   },
   "file_extension": ".py",
   "mimetype": "text/x-python",
   "name": "python",
   "nbconvert_exporter": "python",
   "pygments_lexer": "ipython3",
   "version": "3.13.2"
  }
 },
 "nbformat": 4,
 "nbformat_minor": 5
}
